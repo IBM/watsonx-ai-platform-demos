{
 "cells": [
  {
   "cell_type": "markdown",
   "metadata": {},
   "source": [
    "# Docling image parsing example\n",
    "![alt text](images/Docling%20qs%20earch.png)\n",
    "\n",
    "based on this https://docling-project.github.io/docling/examples/pictures_description_api/\n"
   ]
  },
  {
   "cell_type": "markdown",
   "metadata": {},
   "source": [
    "### 0. Preperation\n",
    "\n",
    "install docling and split the document and managable sizes (for demo purposes only)"
   ]
  },
  {
   "cell_type": "code",
   "execution_count": null,
   "metadata": {},
   "outputs": [],
   "source": [
    "!pip install docling"
   ]
  },
  {
   "cell_type": "code",
   "execution_count": null,
   "metadata": {},
   "outputs": [],
   "source": [
    "# split pdf using python script\n",
    "# this snippet includes an interesting diagrtam\n",
    "!python pdf_splitter_tool.py ../../00_setup/01_raw_data/db2_data_mov_115.pdf 19 20 pdf_snippet_with_diagram_0.pdf"
   ]
  },
  {
   "cell_type": "markdown",
   "metadata": {},
   "source": [
    "### 1. Basic docling parsing\n",
    "\n",
    "This ignores images and just leaves a < image > marker in the parsed markdown"
   ]
  },
  {
   "cell_type": "code",
   "execution_count": null,
   "metadata": {},
   "outputs": [],
   "source": [
    "from docling.document_converter import DocumentConverter\n",
    "\n",
    "source = \"pdf_snippet_with_diagram_0.pdf\"  # document per local path or URL\n",
    "converter = DocumentConverter()\n",
    "result = converter.convert(source)\n",
    "print(result.document.export_to_markdown())  # output: \"## Docling Technical Report[...]\"\n",
    "# store md in a file with the same name as the pdf + basic_pipeline.md\n",
    "with open(f\"{source.split('.')[0]}_1_basic_pipeline.md\", \"w\") as f:\n",
    "    f.write(result.document.export_to_markdown())"
   ]
  },
  {
   "cell_type": "markdown",
   "metadata": {},
   "source": [
    "### 2. Setting up vision based parsing\n",
    "\n",
    "This will send all detected images to a multimodel LLM in watsonx"
   ]
  },
  {
   "cell_type": "code",
   "execution_count": null,
   "metadata": {},
   "outputs": [],
   "source": [
    "from docling.datamodel.base_models import InputFormat\n",
    "from docling.datamodel.pipeline_options import (\n",
    "    PdfPipelineOptions,\n",
    "    PictureDescriptionApiOptions,\n",
    ")\n",
    "from docling.document_converter import DocumentConverter, PdfFormatOption\n",
    "import requests\n",
    "from docling_core.types.doc import PictureItem\n",
    "from dotenv import load_dotenv"
   ]
  },
  {
   "cell_type": "code",
   "execution_count": null,
   "metadata": {},
   "outputs": [],
   "source": [
    "def watsonx_vlm_options():\n",
    "    load_dotenv()\n",
    "    api_key = \"...\"\n",
    "    project_id = \"0701487d-97b1-4583-8980-b3cbfcac032a\"\n",
    "\n",
    "    def _get_iam_access_token(api_key: str) -> str:\n",
    "        res = requests.post(\n",
    "            url=\"https://iam.cloud.ibm.com/identity/token\",\n",
    "            headers={\n",
    "                \"Content-Type\": \"application/x-www-form-urlencoded\",\n",
    "            },\n",
    "            data=f\"grant_type=urn:ibm:params:oauth:grant-type:apikey&apikey={api_key}\",\n",
    "        )\n",
    "        res.raise_for_status()\n",
    "        api_out = res.json()\n",
    "        print(f\"{api_out=}\")\n",
    "        return api_out[\"access_token\"]\n",
    "\n",
    "    options = PictureDescriptionApiOptions(\n",
    "        url=\"https://us-south.ml.cloud.ibm.com/ml/v1/text/chat?version=2023-05-29\",\n",
    "        params=dict(\n",
    "            model_id=\"meta-llama/llama-3-2-90b-vision-instruct\",\n",
    "            project_id=project_id,\n",
    "            parameters=dict(\n",
    "                max_new_tokens=400,\n",
    "            ),\n",
    "        ),\n",
    "        headers={\n",
    "            \"Authorization\": \"Bearer \" + _get_iam_access_token(api_key=api_key),\n",
    "        },\n",
    "        prompt=\"\"\"You are creating a description of the image to make it usable in a RAG pipeline. \n",
    "                    Describe the image in a few sentences. \n",
    "                    If it is a diagram, make sure to describe the relationships between the elements.\n",
    "                    Be consise and accurate.\"\"\",\n",
    "        timeout=60,\n",
    "    )\n",
    "    return options"
   ]
  },
  {
   "cell_type": "code",
   "execution_count": null,
   "metadata": {},
   "outputs": [],
   "source": [
    "def main(source):\n",
    "\n",
    "    pipeline_options = PdfPipelineOptions(\n",
    "        enable_remote_services=True  # <-- this is required!\n",
    "    )\n",
    "    pipeline_options.do_picture_description = True\n",
    "    pipeline_options.picture_description_options = watsonx_vlm_options()\n",
    "\n",
    "    doc_converter = DocumentConverter(\n",
    "        format_options={\n",
    "            InputFormat.PDF: PdfFormatOption(\n",
    "                pipeline_options=pipeline_options,\n",
    "            )\n",
    "        }\n",
    "    )\n",
    "    result = doc_converter.convert(source)\n",
    "    \n",
    "\n",
    "    for element, _level in result.document.iterate_items():\n",
    "        if isinstance(element, PictureItem):\n",
    "            print(\n",
    "                f\"Picture {element.self_ref}\\n\"\n",
    "                f\"Caption: {element.caption_text(doc=result.document)}\\n\"\n",
    "                f\"Annotations: {element.annotations}\"\n",
    "            )\n",
    "    with open(f\"{source.split('.')[0]}_2_advanced_pipeline.md\", \"w\") as f:\n",
    "        f.write(result.document.export_to_markdown())\n",
    "        \n",
    "if __name__ == \"__main__\":\n",
    "    main(source)\n",
    "    "
   ]
  },
  {
   "cell_type": "code",
   "execution_count": null,
   "metadata": {},
   "outputs": [],
   "source": []
  },
  {
   "cell_type": "code",
   "execution_count": null,
   "metadata": {},
   "outputs": [],
   "source": []
  },
  {
   "cell_type": "code",
   "execution_count": null,
   "metadata": {},
   "outputs": [],
   "source": []
  }
 ],
 "metadata": {
  "kernelspec": {
   "display_name": ".venv",
   "language": "python",
   "name": "python3"
  },
  "language_info": {
   "codemirror_mode": {
    "name": "ipython",
    "version": 3
   },
   "file_extension": ".py",
   "mimetype": "text/x-python",
   "name": "python",
   "nbconvert_exporter": "python",
   "pygments_lexer": "ipython3",
   "version": "3.13.4"
  }
 },
 "nbformat": 4,
 "nbformat_minor": 2
}
